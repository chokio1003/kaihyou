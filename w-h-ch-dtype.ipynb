{
 "cells": [
  {
   "cell_type": "code",
   "execution_count": 5,
   "metadata": {},
   "outputs": [
    {
     "name": "stdout",
     "output_type": "stream",
     "text": [
      "width: 1500\n",
      "height: 1200\n",
      "channels: 3\n",
      "dtype: uint8\n"
     ]
    }
   ],
   "source": [
    "import cv2\n",
    "import sys\n",
    "\n",
    "if __name__ == \"__main__\":\n",
    "    img = cv2.imread(\"dustrgbcv2.png\", cv2.IMREAD_UNCHANGED)\n",
    "\n",
    "    # 画像ファイルの読み込みに失敗したらエラー終了\n",
    "    if img is None:\n",
    "        print(\"Failed to load image file.\")\n",
    "        sys.exit(1)\n",
    "\n",
    "    # カラーとグレースケールで場合分け\n",
    "    if len(img.shape) == 3:\n",
    "        height, width, channels = img.shape[:3]\n",
    "    else:\n",
    "        height, width = img.shape[:2]\n",
    "        channels = 1\n",
    "\n",
    "    # 取得結果（幅，高さ，チャンネル数，depth）を表示\n",
    "    print(\"width: \" + str(width))\n",
    "    print(\"height: \" + str(height))\n",
    "    print(\"channels: \" + str(channels))\n",
    "    print(\"dtype: \" + str(img.dtype))"
   ]
  },
  {
   "cell_type": "code",
   "execution_count": null,
   "metadata": {},
   "outputs": [],
   "source": []
  }
 ],
 "metadata": {
  "kernelspec": {
   "display_name": "Python 3",
   "language": "python",
   "name": "python3"
  },
  "language_info": {
   "codemirror_mode": {
    "name": "ipython",
    "version": 3
   },
   "file_extension": ".py",
   "mimetype": "text/x-python",
   "name": "python",
   "nbconvert_exporter": "python",
   "pygments_lexer": "ipython3",
   "version": "3.7.4"
  }
 },
 "nbformat": 4,
 "nbformat_minor": 2
}
