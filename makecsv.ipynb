{
 "cells": [
  {
   "cell_type": "code",
   "execution_count": 1,
   "metadata": {},
   "outputs": [],
   "source": [
    "%matplotlib inline\n",
    "import matplotlib.pyplot as plt\n",
    "import numpy as np\n",
    "import cv2\n",
    "import numpy\n",
    "import os\n",
    "from scipy.interpolate import RectBivariateSpline"
   ]
  },
  {
   "cell_type": "code",
   "execution_count": 17,
   "metadata": {},
   "outputs": [],
   "source": [
    "data01 = cv2.imread('201603270300/png/201603270300b01.png',-1)\n",
    "data02 = cv2.imread('201603270300/png/201603270300b02.png',-1)\n",
    "data03 = cv2.imread('201603270300/png/201603270300b03.png',-1)\n",
    "data04 = cv2.imread('201603270300/png/201603270300b04.png',-1)\n",
    "data05 = cv2.imread('201603270300/png/201603270300b05.png',-1)\n",
    "data06 = cv2.imread('201603270300/png/201603270300b06.png',-1)\n",
    "data07 = cv2.imread('201603270300/png/201603270300b07.png',-1)\n",
    "data08 = cv2.imread('201603270300/png/201603270300b08.png',-1)\n",
    "data09 = cv2.imread('201603270300/png/201603270300b09.png',-1)\n",
    "data10 = cv2.imread('201603270300/png/201603270300b10.png',-1)\n",
    "data11 = cv2.imread('201603270300/png/201603270300b11.png',-1)\n",
    "data12 = cv2.imread('201603270300/png/201603270300b12.png',-1)\n",
    "data13 = cv2.imread('201603270300/png/201603270300b13.png',-1)\n",
    "data14 = cv2.imread('201603270300/png/201603270300b14.png',-1)\n",
    "data15 = cv2.imread('201603270300/png/201603270300b15.png',-1)\n",
    "data16 = cv2.imread('201603270300/png/201603270300b16.png',-1)\n",
    "data17 = cv2.imread('201603270300/png/201603270300mask.png',0)"
   ]
  },
  {
   "cell_type": "code",
   "execution_count": 18,
   "metadata": {},
   "outputs": [
    {
     "data": {
      "text/plain": [
       "588"
      ]
     },
     "execution_count": 18,
     "metadata": {},
     "output_type": "execute_result"
    }
   ],
   "source": [
    "data01[0][0]"
   ]
  },
  {
   "cell_type": "code",
   "execution_count": 19,
   "metadata": {},
   "outputs": [],
   "source": [
    "for i in range(600):\n",
    "    for j in range(500):\n",
    "         if data17[j][i]>0:\n",
    "                data17[j][i]=1"
   ]
  },
  {
   "cell_type": "code",
   "execution_count": 20,
   "metadata": {},
   "outputs": [
    {
     "data": {
      "text/plain": [
       "<matplotlib.image.AxesImage at 0x291c8c05ac8>"
      ]
     },
     "execution_count": 20,
     "metadata": {},
     "output_type": "execute_result"
    },
    {
     "data": {
      "image/png": "[encoded data removed]",
      "text/plain": [
       "<Figure size 432x288 with 1 Axes>"
      ]
     },
     "metadata": {
      "needs_background": "light"
     },
     "output_type": "display_data"
    }
   ],
   "source": [
    "plt.imshow(data17)"
   ]
  },
  {
   "cell_type": "code",
   "execution_count": 21,
   "metadata": {},
   "outputs": [],
   "source": [
    "csv = np.empty([300000, 17])\n",
    "h=0\n",
    "for i in range(600):\n",
    "    for j in range(500):\n",
    "        csv[h][0] = data01[j][i]\n",
    "        h=h+1\n",
    "h=0\n",
    "for i in range(600):\n",
    "    for j in range(500):\n",
    "        csv[h][1] = data02[j][i]\n",
    "        h=h+1\n",
    "h=0\n",
    "for i in range(600):\n",
    "    for j in range(500):\n",
    "        csv[h][2] = data03[j][i]\n",
    "        h=h+1\n",
    "h=0\n",
    "for i in range(600):\n",
    "    for j in range(500):\n",
    "        csv[h][3] = data04[j][i]\n",
    "        h=h+1\n",
    "h=0\n",
    "for i in range(600):\n",
    "    for j in range(500):\n",
    "        csv[h][4] = data05[j][i]\n",
    "        h=h+1\n",
    "h=0\n",
    "for i in range(600):\n",
    "    for j in range(500):\n",
    "        csv[h][5] = data06[j][i]\n",
    "        h=h+1\n",
    "h=0\n",
    "for i in range(600):\n",
    "    for j in range(500):\n",
    "        csv[h][6] = data07[j][i]\n",
    "        h=h+1\n",
    "h=0\n",
    "for i in range(600):\n",
    "    for j in range(500):\n",
    "        csv[h][7] = data08[j][i]\n",
    "        h=h+1\n",
    "h=0\n",
    "for i in range(600):\n",
    "    for j in range(500):\n",
    "        csv[h][8] = data09[j][i]\n",
    "        h=h+1\n",
    "h=0\n",
    "for i in range(600):\n",
    "    for j in range(500):\n",
    "        csv[h][9] = data10[j][i]\n",
    "        h=h+1\n",
    "h=0\n",
    "for i in range(600):\n",
    "    for j in range(500):\n",
    "        csv[h][10] = data11[j][i]\n",
    "        h=h+1\n",
    "h=0\n",
    "for i in range(600):\n",
    "    for j in range(500):\n",
    "        csv[h][11] = data12[j][i]\n",
    "        h=h+1\n",
    "h=0\n",
    "for i in range(600):\n",
    "    for j in range(500):\n",
    "        csv[h][12] = data13[j][i]\n",
    "        h=h+1\n",
    "h=0\n",
    "for i in range(600):\n",
    "    for j in range(500):\n",
    "        csv[h][13] = data14[j][i]\n",
    "        h=h+1\n",
    "h=0\n",
    "for i in range(600):\n",
    "    for j in range(500):\n",
    "        csv[h][14] = data15[j][i]\n",
    "        h=h+1\n",
    "h=0\n",
    "for i in range(600):\n",
    "    for j in range(500):\n",
    "        csv[h][15] = data16[j][i]\n",
    "        h=h+1\n",
    "h=0\n",
    "for i in range(600):\n",
    "    for j in range(500):\n",
    "        csv[h][16] = data17[j][i]\n",
    "        h=h+1\n"
   ]
  },
  {
   "cell_type": "code",
   "execution_count": 22,
   "metadata": {},
   "outputs": [],
   "source": [
    "np.savetxt('201603270300mask.txt', csv,fmt = \"%d\")"
   ]
  },
  {
   "cell_type": "code",
   "execution_count": 82,
   "metadata": {
    "scrolled": true
   },
   "outputs": [
    {
     "data": {
      "text/plain": [
       "(300000, 17)"
      ]
     },
     "execution_count": 82,
     "metadata": {},
     "output_type": "execute_result"
    }
   ],
   "source": [
    "csv.shape"
   ]
  },
  {
   "cell_type": "code",
   "execution_count": null,
   "metadata": {},
   "outputs": [],
   "source": []
  }
 ],
 "metadata": {
  "kernelspec": {
   "display_name": "Python 3",
   "language": "python",
   "name": "python3"
  },
  "language_info": {
   "codemirror_mode": {
    "name": "ipython",
    "version": 3
   },
   "file_extension": ".py",
   "mimetype": "text/x-python",
   "name": "python",
   "nbconvert_exporter": "python",
   "pygments_lexer": "ipython3",
   "version": "3.7.4"
  }
 },
 "nbformat": 4,
 "nbformat_minor": 2
}
