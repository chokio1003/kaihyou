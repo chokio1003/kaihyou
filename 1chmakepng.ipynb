{
 "cells": [
  {
   "cell_type": "code",
   "execution_count": 1,
   "metadata": {},
   "outputs": [],
   "source": [
    "%matplotlib inline\n",
    "import matplotlib.pyplot as plt\n",
    "import numpy as np\n",
    "import cv2\n",
    "import numpy\n",
    "import os\n",
    "from scipy.interpolate import RectBivariateSpline\n",
    "#最小値0、最大値1にする数量正規化メソッド\n",
    "def normalization(x):\n",
    "    x_min = x.min()\n",
    "    x_max = x.max()\n",
    "    x_norm = (x - x_min) / (x_max - x_min)\n",
    "    return x_norm   #正規化した配列を返す"
   ]
  },
  {
   "cell_type": "code",
   "execution_count": 3,
   "metadata": {},
   "outputs": [
    {
     "data": {
      "text/plain": [
       "True"
      ]
     },
     "execution_count": 3,
     "metadata": {},
     "output_type": "execute_result"
    }
   ],
   "source": [
    "fnam = '201603270300/DAT/HS_H08_20160327_0300_B01_JP01_R10_S0101.DAT'\n",
    "\n",
    "fsiz = os.path.getsize(fnam)\n",
    "with open(fnam,'rb') as fp:\n",
    " head = fp.read(fsiz)\n",
    " data = np.frombuffer(fp.read(),dtype='u2')\n",
    "\n",
    "imax, = np.frombuffer(head[3:5],dtype='u2')\n",
    "j,h = 0,[]\n",
    "for i in range(imax):\n",
    " n, = np.frombuffer(head[j+1:j+3],dtype='u2')\n",
    " h.append(head[j:j+n])\n",
    " j += n\n",
    "\n",
    "colum, = np.frombuffer(h[1][5:7],dtype='u2')\n",
    "line, = np.frombuffer(h[1][7:9],dtype='u2')\n",
    "\n",
    "\n",
    "\n",
    "NCOL = int(colum)\n",
    "NLIN = int(line)\n",
    "hsiz = os.path.getsize(fnam)- NLIN*NCOL*2\n",
    "with open(fnam,'rb') as fp:\n",
    " head = fp.read(hsiz)\n",
    " data = np.frombuffer(fp.read(),dtype='u2').reshape(NLIN,NCOL)\n",
    "    \n",
    "validbit, = np.frombuffer(h[4][13:15],dtype='u2')\n",
    "sub_lon, = np.frombuffer(h[2][3:11])\n",
    "cfac,lfac = np.frombuffer(h[2][11:19],dtype='u4')\n",
    "coff,loff = np.frombuffer(h[2][19:27],dtype='f4')\n",
    "p1,p2,p3,p4,p5,p6,p7 = np.frombuffer(h[2][27:83])\n",
    "band, = np.frombuffer(h[4][3:5],dtype='u2')\n",
    "wlen, = np.frombuffer(h[4][5:13])\n",
    "verr,vout = np.frombuffer(h[4][15:19],dtype='u2')\n",
    "gain,cnst = np.frombuffer(h[4][19:35])\n",
    "lnum, = np.frombuffer(h[6][5:7],dtype='u2')\n",
    "\n",
    "LMIN = 1.0e-60\n",
    "lrad = gain*data+cnst\n",
    "lrad[lrad < LMIN] = LMIN\n",
    "if band > 6:\n",
    " wlen *= 1.0e-6\n",
    " lrad *= 1.0e6\n",
    " c0,c1,c2,c_0,c_1,c_2,c_c,c_h,c_k = np.frombuffer(h[4][35:107])\n",
    " t_e = c_h*c_c/(c_k*wlen*np.log(2*c_h*c_c**2/(wlen**5*lrad)+1))\n",
    " val = c0+c1*t_e+c2*t_e**2\n",
    "else:\n",
    " coef, = np.frombuffer(h[4][35:43])\n",
    " val = coef*lrad\n",
    "    \n",
    "lon = np.arange(141.0,147.0,0.01)\n",
    "lat = np.arange(47.0,42.0,-0.01)\n",
    "col = np.arange(NCOL)+1\n",
    "lin = np.arange(NLIN)+lnum\n",
    "rad_lat = np.radians(lat)\n",
    "c_lat = np.arctan(p5*np.tan(rad_lat))\n",
    "c_lon = np.radians(lon-sub_lon)\n",
    "cos_lat = np.cos(c_lat).reshape(-1,1)\n",
    "sin_lat = np.sin(c_lat).reshape(-1,1)\n",
    "cos_lon = np.cos(c_lon).reshape(1,-1)\n",
    "sin_lon = np.sin(c_lon).reshape(1,-1)\n",
    "rl = p3/np.sqrt(1.0-p4*cos_lat**2)\n",
    "r1 = p1-rl*cos_lat*cos_lon\n",
    "r2 = -rl*cos_lat*sin_lon\n",
    "r3 = rl*sin_lat\n",
    "rn = np.sqrt(r1*r1+r2*r2+r3*r3)\n",
    "x = np.degrees(np.arctan(-r2/r1))\n",
    "y = np.degrees(np.arcsin(-r3/rn))\n",
    "col_out = coff+x/65536*cfac\n",
    "lin_out = loff+y/65536*lfac\n",
    "val_out = RectBivariateSpline(lin,col,val).ev(lin_out,col_out)\n",
    "data_out = RectBivariateSpline(lin,col,data).ev(lin_out,col_out)\n",
    "\n",
    "data_out = np.array(data_out, dtype='u2')\n",
    "\n",
    "cv2.imwrite(\"201603270300b01.png\",data_out)\n",
    "\n"
   ]
  },
  {
   "cell_type": "code",
   "execution_count": null,
   "metadata": {},
   "outputs": [],
   "source": []
  }
 ],
 "metadata": {
  "kernelspec": {
   "display_name": "Python 3",
   "language": "python",
   "name": "python3"
  },
  "language_info": {
   "codemirror_mode": {
    "name": "ipython",
    "version": 3
   },
   "file_extension": ".py",
   "mimetype": "text/x-python",
   "name": "python",
   "nbconvert_exporter": "python",
   "pygments_lexer": "ipython3",
   "version": "3.7.4"
  }
 },
 "nbformat": 4,
 "nbformat_minor": 2
}
